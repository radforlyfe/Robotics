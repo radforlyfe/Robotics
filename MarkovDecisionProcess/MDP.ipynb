{
 "cells": [
  {
   "cell_type": "markdown",
   "metadata": {},
   "source": [
    "# Markov Decision Processes (MDP)"
   ]
  },
  {
   "cell_type": "code",
   "execution_count": 1,
   "metadata": {},
   "outputs": [],
   "source": [
    "import numpy as np\n",
    "import matplotlib.pyplot as plt"
   ]
  },
  {
   "cell_type": "markdown",
   "metadata": {},
   "source": [
    "## Question 1(a) and 1(b)"
   ]
  },
  {
   "cell_type": "code",
   "execution_count": 2,
   "metadata": {},
   "outputs": [
    {
     "name": "stdout",
     "output_type": "stream",
     "text": [
      "The size of state space Ns is 768.\n",
      "The size of action space Na is 7.\n"
     ]
    }
   ],
   "source": [
    "# Grid world:\n",
    "L = 8\n",
    "W = 8\n",
    "heading = 12\n",
    "\n",
    "# State space S where state s(x,y,h) = s(x-coordinate, y-coordinate, h-heading):\n",
    "S = []\n",
    "for x in range(L):\n",
    "    for y in range(W):\n",
    "        for h in range(heading):\n",
    "            S.append((x,y,h))\n",
    "\n",
    "nS = len(S)\n",
    "print(\"The size of state space Ns is %d.\" % (nS))\n",
    "\n",
    "# Action space where action a(move, turn):\n",
    "#moves: \n",
    "still = 0\n",
    "forward = 1\n",
    "backward = 2\n",
    "#turns:\n",
    "turn_left = -1\n",
    "turn_right = 1\n",
    "turn_none = 0\n",
    "\n",
    "# Action space A where action a(move, turn):\n",
    "A = []\n",
    "moves = [still, forward, backward] \n",
    "turns = [turn_none, turn_left, turn_right]\n",
    "\n",
    "for move in moves:\n",
    "    if move != still:\n",
    "        for turn in turns:\n",
    "            A.append((move, turn))\n",
    "    else:\n",
    "        A.append((still, turn_none))\n",
    "\n",
    "nA = len(A)\n",
    "print(\"The size of action space Na is %d.\" % (nA))"
   ]
  },
  {
   "cell_type": "markdown",
   "metadata": {},
   "source": [
    "## Question 1(c)"
   ]
  },
  {
   "cell_type": "code",
   "execution_count": 3,
   "metadata": {},
   "outputs": [],
   "source": [
    "def transition_prob(s, a, s_, pe):\n",
    "    \"\"\"\n",
    "    Transition_prob function that returns the probability that given state s and action a and error pe,\n",
    "    leads to new state s_\n",
    "    \n",
    "    Arguments:\n",
    "        s(x, y, h) = current state\n",
    "        a(moves, turns) = action taken \n",
    "        s_(x_, y_, h_) = new state \n",
    "        pe = pre-rotation error when moving forward or backwards. 0 < pe <= 0.5\n",
    "    \n",
    "    Return:\n",
    "        psa(s, a, s_) = transition probability to new state given current state and action\n",
    "    \"\"\"\n",
    "    if not (pe >= 0 and pe <= 0.5):  # pre-rotation error is bounded: 0 < pe <= 0.5\n",
    "        raise ValueError(\"pre-rotation probability pe must be bounded 0 < pe <= 0.5\")\n",
    "    \n",
    "    #Robot pointing to different headings:\n",
    "        # heading = [2,3,4] and move \"forward\"  = +x direction = [1, 0]\n",
    "        # heading = [8,9,10] and move \"forward\" = -x direction = [-1,0]\n",
    "        # heading = [11,0,1] and move \"backward\"= -y direction = [0,-1]\n",
    "        # heading = [5,6,7] and move \"backward\" = +y direction = [0, 1]\n",
    "        # pre-rotation error: not pre-rotate (1-2*pe), heading+1 (pe), heading-1 (pe)\n",
    "    #p_heading[heading] = [ ( [move direction], heading, pre-rotation error) ]\n",
    "    p_heading = {}\n",
    "    p_heading[0]  = [ ([0, 1], 0, 1-2*pe),   ([0, 1], 1, pe),   ([0, 1], 11, pe) ]\n",
    "    p_heading[1]  = [ ([0, 1], 1, 1-2*pe),   ([1, 0], 2, pe),   ([0, 1], 0, pe)  ]\n",
    "    p_heading[2]  = [ ([1, 0], 2, 1-2*pe),   ([1, 0], 3, pe),   ([0, 1], 1, pe)  ] \n",
    "    p_heading[3]  = [ ([1, 0], 3, 1-2*pe),   ([1, 0], 4, pe),   ([1, 0], 2, pe)  ]\n",
    "    p_heading[4]  = [ ([1, 0], 4, 1-2*pe),   ([0, -1], 5, pe),  ([1, 0], 3, pe)  ]\n",
    "    p_heading[5]  = [ ([0, -1], 5, 1-2*pe),  ([0, -1], 6, pe),  ([1, 0], 4, pe)  ]\n",
    "    p_heading[6]  = [ ([0, -1], 6, 1-2*pe),  ([0, -1], 7, pe),  ([0, -1], 5, pe) ]\n",
    "    p_heading[7]  = [ ([0, -1], 7, 1-2*pe),  ([-1, 0], 8, pe),  ([0, -1], 6, pe) ]\n",
    "    p_heading[8]  = [ ([-1, 0], 8, 1-2*pe),  ([-1, 0], 9, pe),  ([0, -1], 7, pe) ]\n",
    "    p_heading[9]  = [ ([-1, 0], 9, 1-2*pe),  ([-1, 0], 10, pe), ([-1, 0], 8, pe) ]\n",
    "    p_heading[10] = [ ([-1, 0], 10, 1-2*pe), ([0, 1], 11, pe),  ([-1, 0], 9, pe) ]\n",
    "    p_heading[11] = [ ([0, 1], 11, 1-2*pe),  ([0, 1], 0, pe),   ([-1, 0], 10, pe)]\n",
    "    \n",
    "    \n",
    "    # psa(s_)=prob - probability transition matrix by making a dictionary with key:new states, value: probability\n",
    "    psa = {}\n",
    "    if a[0] == forward:            # action[move] = forward\n",
    "        for i in p_heading[s[2]]: \n",
    "            x = s[0] + i[0][0]\n",
    "            x_ = x if (x<=L-1 and x>=0) else s[0] # no movement if off the grid\n",
    "            \n",
    "            y = s[1] + i[0][1]\n",
    "            y_ = y if (y<=W-1 and y>=0) else s[1] # no movement if off the grid\n",
    "            \n",
    "            h_ = (a[1] + i[1]) % 12 \n",
    "            \n",
    "            psa[(x_, y_, h_)] = i[2]\n",
    "            \n",
    "    elif a[0] == backward:         # action[move] = backward\n",
    "        for i in p_heading[s[2]]:  \n",
    "            x = s[0] - i[0][0]\n",
    "            x_ = x if (x<=L-1 and x>=0) else s[0] # no movement if off the grid\n",
    "            \n",
    "            y = s[1] - i[0][1]\n",
    "            y_ = y if (y<=W-1 and y>=0) else s[1] # no movement if off the grid\n",
    "            \n",
    "            h_ = (a[1] + i[1]) % 12\n",
    "            \n",
    "            psa[(x_, y_, h_)] = i[2]    \n",
    "            \n",
    "    else:                          # action[move] = still (no movement and no turn)\n",
    "        psa[s] = 1 \n",
    "    \n",
    "    if s_ in psa.keys():\n",
    "        return psa[s_]   # return probability if s_ is found in psa matrix else return 0\n",
    "    else:\n",
    "        return 0"
   ]
  },
  {
   "cell_type": "markdown",
   "metadata": {},
   "source": [
    "## Question 1(d)"
   ]
  },
  {
   "cell_type": "code",
   "execution_count": 4,
   "metadata": {},
   "outputs": [],
   "source": [
    "def next_state(s, a, pe):\n",
    "    \"\"\"\n",
    "    Next_state function returns the next state s_ given initial state, action, and error probability\n",
    "    \n",
    "    Arguments:\n",
    "        s(x, y, h) = initial state\n",
    "        a(moves, turns) = action taken \n",
    "        pe = pre-rotation error when moving forward or backwards. 0 < pe <= 0.5\n",
    "    \n",
    "    Return:\n",
    "        s_(x_, y_, h_) = next state\n",
    "    \"\"\"\n",
    "    if not (pe >= 0 and pe <= 0.5):  # pre-rotation error is bounded: 0 < pe <= 0.5\n",
    "        raise ValueError(\"pre-rotation probability pe must be bounded 0 < pe <= 0.5\")\n",
    "    \n",
    "    #Robot pointing to different headings:\n",
    "        # heading = [2,3,4] and move \"forward\"  = +x direction = [1, 0]\n",
    "        # heading = [8,9,10] and move \"forward\" = -x direction = [-1,0]\n",
    "        # heading = [11,0,1] and move \"backward\"= -y direction = [0,-1]\n",
    "        # heading = [5,6,7] and move \"backward\" = +y direction = [0, 1]\n",
    "        # pre-rotation error: not pre-rotate (1-2*pe), heading+1 (pe), heading-1 (pe)\n",
    "    #p_heading[heading] = [ ( [move direction], heading, pre-rotation error) ]\n",
    "    p_heading = {}\n",
    "    p_heading[0]  = [ ([0, 1], 0, 1-2*pe),   ([0, 1], 1, pe),   ([0, 1], 11, pe) ]\n",
    "    p_heading[1]  = [ ([0, 1], 1, 1-2*pe),   ([1, 0], 2, pe),   ([0, 1], 0, pe)  ]\n",
    "    p_heading[2]  = [ ([1, 0], 2, 1-2*pe),   ([1, 0], 3, pe),   ([0, 1], 1, pe)  ] \n",
    "    p_heading[3]  = [ ([1, 0], 3, 1-2*pe),   ([1, 0], 4, pe),   ([1, 0], 2, pe)  ]\n",
    "    p_heading[4]  = [ ([1, 0], 4, 1-2*pe),   ([0, -1], 5, pe),  ([1, 0], 3, pe)  ]\n",
    "    p_heading[5]  = [ ([0, -1], 5, 1-2*pe),  ([0, -1], 6, pe),  ([1, 0], 4, pe)  ]\n",
    "    p_heading[6]  = [ ([0, -1], 6, 1-2*pe),  ([0, -1], 7, pe),  ([0, -1], 5, pe) ]\n",
    "    p_heading[7]  = [ ([0, -1], 7, 1-2*pe),  ([-1, 0], 8, pe),  ([0, -1], 6, pe) ]\n",
    "    p_heading[8]  = [ ([-1, 0], 8, 1-2*pe),  ([-1, 0], 9, pe),  ([0, -1], 7, pe) ]\n",
    "    p_heading[9]  = [ ([-1, 0], 9, 1-2*pe),  ([-1, 0], 10, pe), ([-1, 0], 8, pe) ]\n",
    "    p_heading[10] = [ ([-1, 0], 10, 1-2*pe), ([0, 1], 11, pe),  ([-1, 0], 9, pe) ]\n",
    "    p_heading[11] = [ ([0, 1], 11, 1-2*pe),  ([0, 1], 0, pe),   ([-1, 0], 10, pe)]\n",
    "    \n",
    "    # state_prob_dict[probability] = next state s_\n",
    "    state_prob_dict = {}\n",
    "    if a[0] == forward:             # action[move] = forward\n",
    "        for i in p_heading[s[2]]: \n",
    "            x = s[0] + i[0][0]\n",
    "            x_ = x if (x<=L-1 and x>=0) else s[0] # no movement if off the grid\n",
    "            \n",
    "            y = s[1] + i[0][1]\n",
    "            y_ = y if (y<=W-1 and y>=0) else s[1] # no movement if off the grid\n",
    "            \n",
    "            h_ = (a[1] + i[1]) % 12 \n",
    "            \n",
    "            if i[2] != 0:\n",
    "                state_prob_dict[i[2]] = (x_, y_, h_)\n",
    "            \n",
    "    elif a[0] == backward:          # action[move] = backward\n",
    "        for i in p_heading[s[2]]: \n",
    "            x = s[0] - i[0][0]\n",
    "            x_ = x if (x<=L-1 and x>=0) else s[0] # no movement if off the grid\n",
    "            \n",
    "            y = s[1] - i[0][1]\n",
    "            y_ = y if (y<=W-1 and y>=0) else s[1] # no movement if off the grid\n",
    "            \n",
    "            h_ = (a[1] + i[1]) % 12\n",
    "            \n",
    "            if i[2] != 0:\n",
    "                state_prob_dict[i[2]] = (x_, y_, h_)\n",
    "            \n",
    "    else:                           # action[move] = still (no movement and no turn with psa=1)\n",
    "        state_prob_dict[1] = s \n",
    "    \n",
    "    return state_prob_dict"
   ]
  },
  {
   "cell_type": "markdown",
   "metadata": {},
   "source": [
    "## Question 2(a)"
   ]
  },
  {
   "cell_type": "code",
   "execution_count": 5,
   "metadata": {},
   "outputs": [],
   "source": [
    "def reward(s):\n",
    "    \"\"\"\n",
    "    Reward function returns the reward given initial state\n",
    "    \n",
    "    Argument:\n",
    "        s(x, y, h) = initial state\n",
    "        \n",
    "    Return:\n",
    "        R = reward\n",
    "    \"\"\"\n",
    "    if (s[0] in [0,7]) or (s[1] in [0,7]):  # Border states (Red)\n",
    "        return -100\n",
    "    elif (s[0]==3) and (s[1] in [4,5,6]):   # Lane markers (Yellow)\n",
    "        return -10\n",
    "    elif (s[0]==5) and (s[1]==6):           # Goal (Green)\n",
    "        return 1\n",
    "    else:\n",
    "        return 0                            # All Other states"
   ]
  },
  {
   "cell_type": "markdown",
   "metadata": {},
   "source": [
    "## Question 3(a)"
   ]
  },
  {
   "cell_type": "code",
   "execution_count": 6,
   "metadata": {},
   "outputs": [],
   "source": [
    "def initial_policy(s):\n",
    "    \"\"\"\n",
    "    Create initial policy of taking an action that gets you closest to the goal square\n",
    "    \n",
    "    Argument:\n",
    "        s(x,y,h) = initial state\n",
    "    \n",
    "    Return:\n",
    "        policy\n",
    "    \"\"\"\n",
    "    policy = {}\n",
    "    goal_square = [5, 6]\n",
    "\n",
    "    for s in S:\n",
    "    \n",
    "        diff = [goal_square[0] - s[0], goal_square[1] - s[1]]  # diff = Goal - initial state\n",
    "        \n",
    "        if diff == [0,0]:                             # At Goal\n",
    "            policy[s] = (still, turn_none) \n",
    "\n",
    "        # Move directions:\n",
    "        if s[2] in [2,3,4]:                           # move +x direction = [1, 0]\n",
    "            if (diff[0]>=0 or diff[1]==0):    \n",
    "                move = forward\n",
    "            else:\n",
    "                move = backward\n",
    "\n",
    "        elif s[2] in [8,9,10]:                        # move -x direction = [-1, 0]\n",
    "            if (diff[0]<=0 or diff[1]==0):\n",
    "                move = forward\n",
    "            else:\n",
    "                move = backward\n",
    "\n",
    "        elif s[2] in [11,0,1]:                        # move -y direction = [0,-1]\n",
    "            if (diff[1]>=0 or diff[0]==0):\n",
    "                move = forward\n",
    "            else:\n",
    "                move = backward\n",
    "\n",
    "        elif s[2] in [5,6,7]:                          \n",
    "            if (diff[1]<=0 or diff[0]==0):            # move +y direction = [0, 1]\n",
    "                move = forward\n",
    "            else:\n",
    "                move = backward\n",
    "\n",
    "        # Turn directions:\n",
    "        diff_theta = s[2]*30 - 90 + np.arctan2(diff[1], diff[0]) * 180 / np.pi\n",
    "        if (diff_theta > 0) and (diff_theta < 180):\n",
    "            turn = turn_left\n",
    "        elif (diff_theta == 0) or (diff_theta == 180):\n",
    "            turn = turn_none\n",
    "        else:\n",
    "            turn = turn_right\n",
    "\n",
    "        policy[s] = (move, turn)\n",
    "    \n",
    "    return policy"
   ]
  },
  {
   "cell_type": "markdown",
   "metadata": {},
   "source": [
    "## Question 3(b)"
   ]
  },
  {
   "cell_type": "code",
   "execution_count": 7,
   "metadata": {},
   "outputs": [],
   "source": [
    "def plot_trajectory(policy, s, pe=0):\n",
    "    \"\"\"\n",
    "    Plot_trajectory function generates and plots a trajectory of a robot given policy matrix, initial state and pre-rotation error\n",
    "    \n",
    "    Arguments:\n",
    "        p = policy that maps all states to actions \n",
    "        s(x,y,h) = initial state \n",
    "        pe = pre-rotation error when moving forward or backwards (0 < pe <= 0.5) \n",
    "        \n",
    "    Return:\n",
    "        Plot of the trajectory of a robot \n",
    "    \"\"\"\n",
    "    if not (pe >= 0 and pe <= 0.5): # pre-rotation error is bounded: 0 < pe <= 0.5\n",
    "        raise ValueError(\"pre-rotation probability pe must be bounded 0 < pe <= 0.5\") \n",
    "    \n",
    "    # Plot the trajectory:\n",
    "    trajectory = []\n",
    "    goal_square = [5, 6]\n",
    "    s0 = s\n",
    "    \n",
    "    while True:\n",
    "        trajectory.append([s0, policy[s0]])\n",
    "        if (policy[s0] == (0,0)):                                      # No action\n",
    "            break\n",
    "        if (s0[0] == goal_square[0]) and (s0[1] == goal_square[1]):    # At Goal\n",
    "            break\n",
    "        P_state = next_state(s0, policy[s0], pe)\n",
    "        state_max_prob = max(P_state.keys())     # max key of P_state is the highest prob\n",
    "        s_next = P_state[state_max_prob]         # value of highest prob is the next state\n",
    "        s0 = s_next\n",
    "    \n",
    "    # Grid world states\n",
    "    fig = plt.figure(figsize = (L, W))\n",
    "    ax = fig.add_subplot(1,1,1)\n",
    "    plt.xlim((0,L))\n",
    "    plt.ylim((0,W))\n",
    "    plt.grid(True, color = 'k')\n",
    "    \n",
    "    # Plot border states as red\n",
    "    from matplotlib.patches import Rectangle\n",
    "    border1 = plt.Rectangle((0,0), 1, 8, color = 'r')\n",
    "    border2 = plt.Rectangle((1,0), 7, 1, color = 'r')\n",
    "    border3 = plt.Rectangle((7,1), 1, 7, color = 'r')\n",
    "    border4 = plt.Rectangle((1,7), 6, 1, color = 'r')\n",
    "    ax.add_patch(border1)\n",
    "    ax.add_patch(border2)\n",
    "    ax.add_patch(border3)\n",
    "    ax.add_patch(border4)\n",
    "    \n",
    "    # Plot lane markers (yellow)\n",
    "    lane1 = plt.Rectangle((3,4), 1, 3, color = 'y')\n",
    "    ax.add_patch(lane1)\n",
    "    \n",
    "    # Plot goal (green)\n",
    "    goal = plt.Rectangle((5,6), 1, 1, color = 'g')\n",
    "    ax.add_patch(goal)\n",
    "    \n",
    "    # Start state:\n",
    "    plt.plot(s[0]+0.5, s[1]+0.5, 'o', markersize = '5') # places dots in the center of each grid\n",
    "    ax.arrow(s[0]+0.5, s[1]+0.5, 0.4*np.sin(30*s[2]*np.pi/180), 0.4*np.cos(30*s[2]*np.pi/180), \\\n",
    "             head_width = 0.1, head_length = 0.2, fc = 'k', ec = 'k')\n",
    "    \n",
    "    # Plot all passing states\n",
    "    for i in range(1, len(trajectory)):\n",
    "        x1 = trajectory[i-1][0][0]      # first point\n",
    "        y1 = trajectory[i-1][0][1]\n",
    "        x2 = trajectory[i][0][0]\n",
    "        y2 = trajectory[i][0][1]\n",
    "        h = trajectory[i][0][2]\n",
    "        plt.plot([x1+0.5, x2+0.5], [y1+0.5, y2+0.5], 'k--')\n",
    "        plt.plot(x2+0.5, y2+0.5, 'x', markersize = '2')\n",
    "        ax.arrow(x2+0.5, y2+0.5, 0.4*np.sin(30*h*np.pi/180),0.4*np.cos(30*h*np.pi/180), \\\n",
    "                 head_width = 0.1, head_length = 0.2, fc = 'k', ec = 'k')\n",
    "        \n",
    "    plt.show()\n",
    "    \n",
    "    return trajectory"
   ]
  },
  {
   "cell_type": "markdown",
   "metadata": {},
   "source": [
    "## Problem 3(c)"
   ]
  },
  {
   "cell_type": "code",
   "execution_count": 8,
   "metadata": {},
   "outputs": [],
   "source": [
    "# Given initial state and initial policy:\n",
    "s0 = (1, 6, 6)\n",
    "policy0 = initial_policy(s0)"
   ]
  },
  {
   "cell_type": "code",
   "execution_count": 9,
   "metadata": {},
   "outputs": [
    {
     "data": {
      "image/png": "[encoded data removed]",
      "text/plain": [
       "<Figure size 576x576 with 1 Axes>"
      ]
     },
     "metadata": {
      "needs_background": "light"
     },
     "output_type": "display_data"
    },
    {
     "name": "stdout",
     "output_type": "stream",
     "text": [
      "Trajectory [state, policy] of robot: \n",
      " [[(1, 6, 6), (1, -1)], [(1, 5, 5), (2, -1)], [(1, 6, 4), (1, -1)], [(2, 6, 3), (1, 0)], [(3, 6, 3), (1, 0)], [(4, 6, 3), (1, 0)], [(5, 6, 3), (1, 0)]]\n"
     ]
    }
   ],
   "source": [
    "# Plot the robot's trajectory\n",
    "\n",
    "plot1 = plot_trajectory(policy0, s0, pe=0)\n",
    "print(\"Trajectory [state, policy] of robot: \\n\" , plot1)"
   ]
  },
  {
   "cell_type": "markdown",
   "metadata": {},
   "source": [
    "## Question 3(d)"
   ]
  },
  {
   "cell_type": "code",
   "execution_count": 10,
   "metadata": {},
   "outputs": [],
   "source": [
    "def policy_evaluation(policy, reward_fnc=reward, pe=0, discount=1, theta=0.001):\n",
    "    \"\"\"\n",
    "    Policy_evaluation function evaluates a policy by returning a matrix of values when indexed by state s.\n",
    "    \n",
    "    Arguments:\n",
    "        policy[s(x,y,h)] = a(move,turn) given policy that we need to evaluate\n",
    "        reward_fnc: call the reward function, reward(s), for getting the immediate reward from that state\n",
    "        pe: pre-rotation error when moving forward or backwards (0 < pe <= 0.5)\n",
    "        discount: gamma discount factor\n",
    "        theta: stop evaluation once V change is less than theta for all states\n",
    "    \n",
    "    Return:\n",
    "        Dictionary of Value function with key: state, value: Value\n",
    "    \"\"\"\n",
    "    V = {}\n",
    "    \n",
    "    for s in S:\n",
    "        V[s] = 0                                                            # start with value = 0 for all states\n",
    "    \n",
    "    while True:\n",
    "        delta = 0                                                           # stopping criterion initialized within the loop\n",
    "        for s in S:\n",
    "            v_new = 0\n",
    "            P_state = next_state(s, policy[s], pe)                          # find all possible next states\n",
    "            for prob in P_state.keys():\n",
    "                s_next = P_state[prob]                                      # value of P_state[prob] is the next state\n",
    "                v_new += prob * (reward_fnc(s_next) + discount * V[s_next]) # evaluate value for the given policy\n",
    "            delta = max(delta, np.abs(v_new - V[s]))                        # delta across state seen thus far\n",
    "            V[s] = v_new                                                    # update value function\n",
    "        \n",
    "        if delta < theta:                                                   # stopping criterion - iterate until no change in value across all states\n",
    "            break\n",
    "            \n",
    "    return V"
   ]
  },
  {
   "cell_type": "markdown",
   "metadata": {},
   "source": [
    "## Question 3(e)"
   ]
  },
  {
   "cell_type": "code",
   "execution_count": 11,
   "metadata": {},
   "outputs": [
    {
     "name": "stdout",
     "output_type": "stream",
     "text": [
      "Value of the trajectory using initial policy0 is:  -484.9889082764241\n"
     ]
    }
   ],
   "source": [
    "# Given initial state and policy, evaluate the policy\n",
    "\n",
    "V = policy_evaluation(policy0, discount=0.9)\n",
    "V[s0]\n",
    "print(\"Value of the trajectory using initial policy0 is: \", V[s0])"
   ]
  },
  {
   "cell_type": "markdown",
   "metadata": {},
   "source": [
    "## Question 3(f)"
   ]
  },
  {
   "cell_type": "code",
   "execution_count": 12,
   "metadata": {},
   "outputs": [],
   "source": [
    "def policy_refinement(V, reward_fnc=reward, pe=0, discount=1):\n",
    "    \"\"\"\n",
    "    Policy_refinement function that returns the optimal policy given one-step lookahead on value V\n",
    "    \n",
    "    Arguments:\n",
    "        V: value of initial policy\n",
    "        reward_fnc: call the reward function, reward(s), for getting the immediate reward from that state\n",
    "        pe: pre-rotation error when moving forward or backwards (0 < pe <= 0.5)\n",
    "        discount: gamma discount factor\n",
    "    \n",
    "    Return:\n",
    "        policy: dictionary with key: state, value: action(move, turn)\n",
    "    \"\"\"\n",
    "    \n",
    "    policy = {}\n",
    "    \n",
    "    for s in S:\n",
    "        action_values = np.zeros(nA)\n",
    "        for i, a in enumerate(A):\n",
    "            P_state = next_state(s, a, pe)\n",
    "            for prob in P_state.keys():\n",
    "                s_next = P_state[prob]\n",
    "                action_values[i] += prob * (reward_fnc(s_next) + discount * V[s_next]) # evaluate value for each action\n",
    "        \n",
    "        max_action_index = np.argmax(action_values)                                    # pick the best index of action by one-step lookahead\n",
    "        policy[s] = A[max_action_index]                                                # update policy = action that gives the max value\n",
    "    \n",
    "    return policy"
   ]
  },
  {
   "cell_type": "markdown",
   "metadata": {},
   "source": [
    "## Question 3(g)"
   ]
  },
  {
   "cell_type": "code",
   "execution_count": 13,
   "metadata": {},
   "outputs": [],
   "source": [
    "def policy_iteration(policy, reward_fnc=reward, pe=0, discount=1):\n",
    "    \"\"\"\n",
    "    Policy_iteration function returns optimal policy (pi*) and optimal value (V*)\n",
    "    \n",
    "    Arguments:\n",
    "        policy: initial policy\n",
    "        reward_fnc: call the reward function, reward(s), for getting the immediate reward from that state\n",
    "        pe: pre-rotation error when moving forward or backwards (0 < pe <= 0.5)\n",
    "        discount: gamma discount factor\n",
    "        \n",
    "    Return:\n",
    "        Tuple of the optimal policy and the optimal value function, (optimal policy, optimal value)\n",
    "    \"\"\"\n",
    "    while True:\n",
    "        \n",
    "        V = policy_evaluation(policy, reward_fnc, pe, discount)         # evaluate the initial policy\n",
    "\n",
    "        policy_updated = policy_refinement(V, reward_fnc, pe, discount) # refine the policy based on one-step lookahead\n",
    "\n",
    "        if policy_updated == policy:                                    # convergence criterion - iterate until no change in policy across all states\n",
    "            break\n",
    "        else:\n",
    "            policy = policy_updated \n",
    "            \n",
    "    return policy, V"
   ]
  },
  {
   "cell_type": "markdown",
   "metadata": {},
   "source": [
    "## Question 3(h) and 3(i)"
   ]
  },
  {
   "cell_type": "code",
   "execution_count": 14,
   "metadata": {},
   "outputs": [
    {
     "data": {
      "image/png": "[encoded data removed]",
      "text/plain": [
       "<Figure size 576x576 with 1 Axes>"
      ]
     },
     "metadata": {
      "needs_background": "light"
     },
     "output_type": "display_data"
    },
    {
     "name": "stdout",
     "output_type": "stream",
     "text": [
      "Time for Policy Iteration: 4.841061115264893 s\n",
      "Trajectory [state, policy] using policy iteration: \n",
      " [[(1, 6, 6), (1, 0)], [(1, 5, 6), (1, -1)], [(1, 4, 5), (1, -1)], [(1, 3, 4), (1, 0)], [(2, 3, 4), (1, 0)], [(3, 3, 4), (1, 0)], [(4, 3, 4), (1, 1)], [(5, 3, 5), (2, 0)], [(5, 4, 5), (2, 0)], [(5, 5, 5), (2, 0)], [(5, 6, 5), (0, 0)]]\n"
     ]
    }
   ],
   "source": [
    "# Given initial state and initial policy, plot the robot's trajectory using policy iteration\n",
    "import time\n",
    "\n",
    "start_time = time.time()\n",
    "policy_optimal, V_optimal = policy_iteration(policy0, discount=0.9)\n",
    "plot_PI = plot_trajectory(policy_optimal, s0, pe=0)\n",
    "end_time = time.time()\n",
    "\n",
    "print(\"Time for Policy Iteration: %s s\" %str(end_time - start_time))\n",
    "print(\"Trajectory [state, policy] using policy iteration: \\n\", plot_PI)"
   ]
  },
  {
   "cell_type": "markdown",
   "metadata": {},
   "source": [
    "## Question 4(a)"
   ]
  },
  {
   "cell_type": "code",
   "execution_count": 15,
   "metadata": {},
   "outputs": [],
   "source": [
    "def value_iteration(policy, reward_fnc=reward, pe=0, discount=1, theta=0.001):\n",
    "    \"\"\"\n",
    "    Value_iteration function returns optimal policy (pi*) and optimal value (V*)\n",
    "    \n",
    "    Arguments:\n",
    "        policy: initial policy\n",
    "        reward_fnc: call the reward function, reward(s), for getting the immediate reward from that state\n",
    "        pe: pre-rotation error when moving forward or backwards (0 < pe <= 0.5)\n",
    "        discount: gamma discount factor\n",
    "        theta: stop evaluation once V change is less than theta for all states\n",
    "        \n",
    "    Return:\n",
    "        Tuple of the optimal policy and the optimal value function, (optimal policy, optimal value)\n",
    "    \"\"\"\n",
    "    V = {}\n",
    "    \n",
    "    for s in S:\n",
    "        V[s] = 0                                                                           # start with value = 0 for all states\n",
    "    \n",
    "    while True:\n",
    "        delta = 0                                                                          # stopping criterion initialized within the loop\n",
    "        for s in S:\n",
    "            action_values = np.zeros(nA)                                                   # placeholder for value for each action start as all zeros vector\n",
    "            for i, a in enumerate(A):\n",
    "                P_state = next_state(s, a, pe)                                             # find all possible next states\n",
    "                for prob in P_state.keys():\n",
    "                    s_next = P_state[prob]                                                 # value of P_state[prob] is the next state\n",
    "                    action_values[i] += prob * (reward_fnc(s_next) + discount * V[s_next]) # evaluate value for each action\n",
    "            max_action_value = np.max(action_values)                                       # pick the action with max value\n",
    "            max_action_index = np.argmax(action_values)                                    # pick the index of action with max value\n",
    "        \n",
    "            delta = max(delta, np.abs(max_action_value - V[s]))                            # delta across state seen thus far\n",
    "            V[s] = max_action_value                                                        # update value fnc = value of action that gives max value\n",
    "            policy[s] = A[max_action_index]                                                # update policy = action that gives the max value\n",
    "\n",
    "        if delta < theta:                                                                  # stopping criterion - iterate until no change in value across all states\n",
    "            break\n",
    "            \n",
    "    return policy, V"
   ]
  },
  {
   "cell_type": "markdown",
   "metadata": {},
   "source": [
    "## Question 4(b) and 4(c)"
   ]
  },
  {
   "cell_type": "code",
   "execution_count": 16,
   "metadata": {
    "scrolled": false
   },
   "outputs": [
    {
     "data": {
      "image/png": "[encoded data removed]",
      "text/plain": [
       "<Figure size 576x576 with 1 Axes>"
      ]
     },
     "metadata": {
      "needs_background": "light"
     },
     "output_type": "display_data"
    },
    {
     "name": "stdout",
     "output_type": "stream",
     "text": [
      "Time for Value Iteration: 2.5703539848327637 s\n",
      "Trajectory [state, policy] using value iteration: \n",
      " [[(1, 6, 6), (1, 0)], [(1, 5, 6), (1, -1)], [(1, 4, 5), (1, -1)], [(1, 3, 4), (1, 0)], [(2, 3, 4), (1, 0)], [(3, 3, 4), (1, 0)], [(4, 3, 4), (1, 1)], [(5, 3, 5), (2, 0)], [(5, 4, 5), (2, 0)], [(5, 5, 5), (2, 0)], [(5, 6, 5), (0, 0)]]\n"
     ]
    }
   ],
   "source": [
    "# Given initial state and initial policy, plot the robot's trajectory using value iteration\n",
    "import time\n",
    "\n",
    "start_time = time.time()\n",
    "policy_optimal, V_optimal = value_iteration(policy0, discount=0.9)\n",
    "plot_VI = plot_trajectory(policy_optimal, s0, pe=0)\n",
    "end_time = time.time()\n",
    "\n",
    "print(\"Time for Value Iteration: %s s\" %str(end_time - start_time))\n",
    "print(\"Trajectory [state, policy] using value iteration: \\n\", plot_VI)"
   ]
  },
  {
   "cell_type": "markdown",
   "metadata": {},
   "source": [
    "## Question 5(a)"
   ]
  },
  {
   "cell_type": "code",
   "execution_count": 17,
   "metadata": {},
   "outputs": [
    {
     "data": {
      "image/png": "[encoded data removed]",
      "text/plain": [
       "<Figure size 576x576 with 1 Axes>"
      ]
     },
     "metadata": {
      "needs_background": "light"
     },
     "output_type": "display_data"
    },
    {
     "name": "stdout",
     "output_type": "stream",
     "text": [
      "Trajectory [state, policy] of robot: \n",
      " [[(1, 6, 6), (1, 0)], [(1, 5, 6), (1, -1)], [(1, 4, 5), (1, -1)], [(1, 3, 4), (1, 0)], [(2, 3, 4), (1, 0)], [(3, 3, 4), (1, 0)], [(4, 3, 4), (1, 1)], [(5, 3, 5), (2, 0)], [(5, 4, 5), (2, 0)], [(5, 5, 5), (2, 0)], [(5, 6, 5), (0, 0)]]\n"
     ]
    }
   ],
   "source": [
    "# Plot trajectory with pe=0.25\n",
    "plot1 = plot_trajectory(policy0, s0, pe=0.25)\n",
    "print(\"Trajectory [state, policy] of robot: \\n\" , plot1)"
   ]
  },
  {
   "cell_type": "code",
   "execution_count": 18,
   "metadata": {
    "scrolled": false
   },
   "outputs": [
    {
     "data": {
      "image/png": "[encoded data removed]",
      "text/plain": [
       "<Figure size 576x576 with 1 Axes>"
      ]
     },
     "metadata": {
      "needs_background": "light"
     },
     "output_type": "display_data"
    },
    {
     "name": "stdout",
     "output_type": "stream",
     "text": [
      "Time for Value Iteration with pe=0.25: 3.145966053009033 s\n",
      "Trajectory [state, policy] using value iteration and pe=0.25: \n",
      " [[(1, 6, 6), (1, 1)], [(1, 5, 7), (1, -1)], [(1, 4, 6), (1, -1)], [(1, 3, 5), (1, -1)], [(1, 2, 4), (1, 0)], [(2, 2, 4), (1, -1)], [(3, 2, 3), (1, -1)], [(4, 2, 2), (1, -1)], [(5, 2, 1), (1, 0)], [(5, 3, 1), (1, 0)], [(5, 4, 1), (1, 0)], [(5, 5, 1), (1, 0)], [(5, 6, 1), (0, 0)]]\n"
     ]
    }
   ],
   "source": [
    "# Given initial state and initial policy, re-plot the robot's trajectory using value iteration and pe=25%\n",
    "start_time = time.time()\n",
    "policy_optimal, V_optimal = value_iteration(policy0, pe=0.25, discount=0.9)\n",
    "plot_VI_25 = plot_trajectory(policy_optimal, s0, pe=0.25)\n",
    "end_time = time.time()\n",
    "print(\"Time for Value Iteration with pe=0.25: %s s\" %str(end_time - start_time))\n",
    "print(\"Trajectory [state, policy] using value iteration and pe=0.25: \\n\", plot_VI_25)"
   ]
  },
  {
   "cell_type": "markdown",
   "metadata": {},
   "source": [
    "## Question 5(b)"
   ]
  },
  {
   "cell_type": "code",
   "execution_count": 19,
   "metadata": {},
   "outputs": [],
   "source": [
    "def new_reward(s):\n",
    "    \"\"\"\n",
    "    New Reward function returns the reward given initial state\n",
    "    \n",
    "    Argument:\n",
    "        s(x, y, h) = initial state\n",
    "        \n",
    "    Return:\n",
    "        R = reward\n",
    "    \"\"\"\n",
    "    if (s[0] in [0,7]) or (s[1] in [0,7]):       # Border states (Red)\n",
    "        return -100\n",
    "    elif (s[0]==3) and (s[1] in [4,5,6]):        # Lane markers (Yellow)\n",
    "        return -10\n",
    "    elif (s[0]==5) and (s[1]==6) and (s[2]==6):  # Goal (Green) *UPDATED*\n",
    "        return 1\n",
    "    else:\n",
    "        return 0                                 # All Other states"
   ]
  },
  {
   "cell_type": "code",
   "execution_count": 20,
   "metadata": {},
   "outputs": [
    {
     "data": {
      "image/png": "[encoded data removed]",
      "text/plain": [
       "<Figure size 576x576 with 1 Axes>"
      ]
     },
     "metadata": {
      "needs_background": "light"
     },
     "output_type": "display_data"
    },
    {
     "name": "stdout",
     "output_type": "stream",
     "text": [
      "Time for Value Iteration with new reward, pe=0.25: 3.151163101196289 s\n",
      "Trajectory [state, policy] using value iteration, new_reward function, and pe=0.25: \n",
      " [[(1, 6, 6), (1, 1)], [(1, 5, 7), (1, 0)], [(1, 4, 7), (1, 1)], [(1, 3, 8), (2, 1)], [(2, 3, 9), (2, 1)], [(3, 3, 10), (2, -1)], [(4, 3, 9), (2, -1)], [(5, 3, 8), (2, 0)], [(6, 3, 8), (1, -1)], [(5, 3, 7), (2, 0)], [(5, 4, 7), (2, 0)], [(5, 5, 7), (2, -1)], [(5, 6, 6), (0, 0)]]\n"
     ]
    }
   ],
   "source": [
    "# Given initial state and initial policy, re-plot the robot's trajectory using value iteration, new_reward function and pe=25%\n",
    "start_time = time.time()\n",
    "policy_optimal, V_optimal = value_iteration(policy0, reward_fnc=new_reward, pe=0.25, discount=0.9)\n",
    "plot_VI_R25 = plot_trajectory(policy_optimal, s0, pe=0.25)\n",
    "end_time = time.time()\n",
    "print(\"Time for Value Iteration with new reward, pe=0.25: %s s\" %str(end_time - start_time))\n",
    "print(\"Trajectory [state, policy] using value iteration, new_reward function, and pe=0.25: \\n\", plot_VI_R25)"
   ]
  },
  {
   "cell_type": "code",
   "execution_count": null,
   "metadata": {},
   "outputs": [],
   "source": []
  }
 ],
 "metadata": {
  "kernelspec": {
   "display_name": "Python 3",
   "language": "python",
   "name": "python3"
  },
  "language_info": {
   "codemirror_mode": {
    "name": "ipython",
    "version": 3
   },
   "file_extension": ".py",
   "mimetype": "text/x-python",
   "name": "python",
   "nbconvert_exporter": "python",
   "pygments_lexer": "ipython3",
   "version": "3.7.1"
  }
 },
 "nbformat": 4,
 "nbformat_minor": 2
}
