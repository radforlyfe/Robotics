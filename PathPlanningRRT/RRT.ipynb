{
  "nbformat": 4,
  "nbformat_minor": 0,
  "metadata": {
    "colab": {
      "name": "rrt_updated.ipynb",
      "provenance": [],
      "collapsed_sections": []
    },
    "kernelspec": {
      "name": "python3",
      "display_name": "Python 3"
    }
  },
  "cells": [
    {
      "cell_type": "code",
      "metadata": {
        "id": "63Nfnd2I_h5O",
        "colab_type": "code",
        "colab": {}
      },
      "source": [
        "import numpy as np\n",
        "import math\n",
        "import random\n",
        "#!pip install shapely\n",
        "from shapely.geometry import LineString,Point\n",
        "import pandas as  pd\n",
        "import copy\n",
        "import time\n",
        "\n",
        "length = 90\n",
        "radius = 25\n",
        "map_length = 1500\n",
        "map_width = 1500\n",
        "\n",
        "#We create an object called Obstacle\n",
        "class Obstacle:\n",
        "  def __init__(self, x1,y1, x2, y2):\n",
        "    self.x1 = x1\n",
        "    self.x2 = x2\n",
        "    self.y1 = y1\n",
        "    self.y2 = y2\n",
        "\n",
        "#We create an object called State\n",
        "class State:\n",
        "    def __init__(self, x, y, angle):\n",
        "        self.x = x\n",
        "        self.y = y\n",
        "        self.angle = ((angle * math.pi)/180)\n",
        "        self.time = 0\n",
        "        self.parent = None\n",
        "    \n",
        "    def print_state(self):\n",
        "        print(\"X is: \" + str(self.x))\n",
        "        print(\"Y is: \" + str(self.y))\n",
        "        degrees = (self.angle * 180)/math.pi\n",
        "        print(\"Angle is: \" + str(degrees))\n",
        "        print(\"Time: \" + str(self.time))\n",
        "        \n",
        "#current_state = State(0, 0, )\n",
        "\n",
        "#Solution to Q2A. Given set of points V, find which one is closest to point Xt\n",
        "#We will use the Euclidean distance to measure the distance and then return the \n",
        "#smallest one.\n",
        "\n",
        "#Given two points, this function returns the distance between them and \n",
        "#the slope of the line between them\n",
        "def get_path(x1, x2):\n",
        "    p1 = np.array((x1.x, x1.y))\n",
        "    p2=  np.array((x2.x, x2.y))\n",
        "    distance = np.linalg.norm(p1 - p2)\n",
        "    slope = (p1[1] - p2[1])/(p1[0] - p2[0])\n",
        "    return distance, slope\n",
        "\n",
        "#SOlution for Q2B, Given initial point and the goal point, this functions\n",
        "#generates the trajectory for the first second of travel\n",
        "#The control inputs for this trajectory are the rotation needed\n",
        "#to set the robot to the correct orientation and the moving in a straight\n",
        "#line for the remaining time along the straight line connecting the two points.\n",
        "#If the robot has reached the goal state and there is enough time available, \n",
        "#the robot will then attempt to change its orientation\n",
        "#to the orientation prescribed by the goal state\n",
        "def one_second_trajectory(xi, xt):\n",
        "    dist_to_goal, slope = get_path(xi, xt)\n",
        "    angle = math.atan(slope)\n",
        "    #if angle < 0:\n",
        "    #    angle = math.radians(180 + math.degrees(angle))\n",
        "    #print(\"The angle of the goal point is: \" + str(math.degrees(angle)))\n",
        "    delta = (angle - xi.angle)% 2*math.pi\n",
        "    #angle_multiplier = 1\n",
        "    #if delta \n",
        "    #if delta > math.pi\n",
        "    #print(\"Delta is: \" + str(math.degrees(delta)))\n",
        "    '''\n",
        "    if delta_a < 0:\n",
        "        #rotate clockwise, right negative, left positive\n",
        "        omega_r = -60\n",
        "        omega_l = 60\n",
        "        time = (length * delta)/(8*math.pi)\n",
        "        self.angle = angle\n",
        "    elif delta_a > 0:\n",
        "        #rotate counter clockwise, right positive, left negative\n",
        "        omega = \n",
        "    else:\n",
        "        pass\n",
        "        #no rotation needed\n",
        "    '''\n",
        "    time_for_rotation = math.fabs((0.9 * delta)/(math.pi))\n",
        "    \n",
        "    if time_for_rotation > 1:\n",
        "        angle_multiplier = 1\n",
        "        if delta < 0:\n",
        "            angle_multiplier = -1\n",
        "        xi.angle += angle_multiplier * (8*math.pi)/length\n",
        "        xi.time += 1\n",
        "        return xi \n",
        "    #print(\"Time to rotate: \" + str(time_for_rotation))\n",
        "    xi.angle = angle\n",
        "    #print(\"The new angle is: \" + str(math.degrees(xi.angle)))\n",
        "    #move in the right direction for the remaining time.\n",
        "    #If there is still time after reaching the goal, change orientation to goal state\n",
        "    #return this trajectory\n",
        "    remaining_time = 1 - time_for_rotation\n",
        "    if xt.y > xi.y:\n",
        "        multiplier = 1\n",
        "    elif xt.y < xi.y:\n",
        "         multiplier = -1\n",
        "    else:\n",
        "        if xt.x > xi.x:\n",
        "            multiplier = 1\n",
        "        elif xt.x < xi.x:\n",
        "            multiplier = -1\n",
        "        #x_axis stuff\n",
        "    distance = multiplier * (remaining_time * 2 * math.pi * radius)\n",
        "    #Updating coordinates of the initial state based on angle to goal\n",
        "    if math.fabs(distance) < dist_to_goal:\n",
        "        xi.x += distance * math.cos(xi.angle)\n",
        "        xi.y += distance * math.sin(xi.angle)\n",
        "        xi.time += 1\n",
        "    else:\n",
        "        xi.x = xt.x\n",
        "        xi.y = xt.y\n",
        "        time_to_goal = dist_to_goal/(2*math.pi*radius)\n",
        "        total_time_taken = time_for_rotation + time_to_goal\n",
        "        xi.time += total_time_taken\n",
        "    return xi\n",
        "\n",
        "\n",
        "\n",
        "#This method check if given a path, whether the path is collision free. Answer to 2(c)\n",
        "#It is a boolean method.\n",
        "def is_collision_free(start_point, end_point, obstacles):\n",
        "    path_string = LineString([Point(start_point.x,start_point.y), Point(end_point.x,end_point.y)])\n",
        "    r = True\n",
        "    for o in obstacles:\n",
        "        l1 = LineString([Point(o.x1, o.y1), Point(o.x2, o.y1)])\n",
        "        l2 = LineString([Point(o.x1, o.y1), Point(o.x1, o.y2)])\n",
        "        l3 = LineString([Point(o.x2, o.y2), Point(o.x2, o.y1)])\n",
        "        l4 = LineString([Point(o.x2, o.y2), Point(o.x1, o.y2)])\n",
        "        lines = [l1,l2,l3,l4]\n",
        "        for l in lines:\n",
        "            if path_string.intersects(l):\n",
        "                r = False\n",
        "                break     \n",
        "    return r\n",
        "            \n",
        "\n",
        "\n",
        "\n",
        "\n"
      ],
      "execution_count": 0,
      "outputs": []
    },
    {
      "cell_type": "code",
      "metadata": {
        "id": "sNwUdi4fzynh",
        "colab_type": "code",
        "outputId": "37f61975-1628-4d12-cada-651a657ba4f0",
        "colab": {
          "base_uri": "https://localhost:8080/",
          "height": 102
        }
      },
      "source": [
        "#Determines closest state, given a set of states\n",
        "\n",
        "def closest_point(V, xt):\n",
        "    dist = []\n",
        "    for v in V:\n",
        "      dist.append(np.sqrt((xt.x - v.x)**2 + (xt.y - v.y)**2))\n",
        "    return V[dist.index(min(dist))]\n",
        "#sample check of closest_point function\n",
        "s1=State(0,0,0)\n",
        "s2=State(100,100,0)\n",
        "s3=State(1000,1000,0)\n",
        "s4=State(200,200,0)\n",
        "p=closest_point([s1,s2,s3],s4)\n",
        "print(p.print_state())"
      ],
      "execution_count": 13,
      "outputs": [
        {
          "output_type": "stream",
          "text": [
            "X is: 100\n",
            "Y is: 100\n",
            "Angle is: 0.0\n",
            "Time: 0\n",
            "None\n"
          ],
          "name": "stdout"
        }
      ]
    },
    {
      "cell_type": "code",
      "metadata": {
        "id": "LFZzB73chb-7",
        "colab_type": "code",
        "colab": {}
      },
      "source": [
        "#Obtain trajectory optimally with no obstacles\n",
        "def total_trajectory(init_state, final_state):\n",
        "  angle_series =[math.degrees(init_state.angle)]\n",
        "  time_series =[init_state.time]\n",
        "  x_series =[init_state.x]\n",
        "  y_series = [init_state.y]\n",
        "  while not((init_state.x==final_state.x) and (init_state.y==final_state.y)):\n",
        "    one_second_trajectory(init_state, final_state)\n",
        "    init_state.print_state()\n",
        "    x_series.append(init_state.x)\n",
        "    y_series.append(init_state.y)\n",
        "    time_series.append(init_state.time)\n",
        "    angle_series.append(math.degrees(init_state.angle))\n",
        "  df = pd.DataFrame(data= {'x': x_series,'y': y_series,'t':time_series,'theta':angle_series})\n",
        "  return df\n"
      ],
      "execution_count": 0,
      "outputs": []
    },
    {
      "cell_type": "code",
      "metadata": {
        "id": "fBzDJrUWiF5Q",
        "colab_type": "code",
        "outputId": "59070e50-328e-43bd-fcb6-720d465a060c",
        "colab": {
          "base_uri": "https://localhost:8080/",
          "height": 554
        }
      },
      "source": [
        "#Plotting Smooth Trajectory\n",
        "init_state = State(40,40,90)\n",
        "final_state = State(0,0,0)\n",
        "df = total_trajectory(init_state, final_state)\n",
        "import matplotlib.pyplot as plt\n",
        "plt.plot(df.x,df.y)\n",
        "print(df)"
      ],
      "execution_count": 15,
      "outputs": [
        {
          "output_type": "stream",
          "text": [
            "X is: 40\n",
            "Y is: 40\n",
            "Angle is: 106.0\n",
            "Time: 1\n",
            "X is: 22.429979718674417\n",
            "Y is: 22.42997971867442\n",
            "Angle is: 45.0\n",
            "Time: 2\n",
            "X is: 0\n",
            "Y is: 0\n",
            "Angle is: 45.00000000000001\n",
            "Time: 2.201940767117956\n",
            "          x         y         t  theta\n",
            "0  40.00000  40.00000  0.000000   90.0\n",
            "1  40.00000  40.00000  1.000000  106.0\n",
            "2  22.42998  22.42998  2.000000   45.0\n",
            "3   0.00000   0.00000  2.201941   45.0\n"
          ],
          "name": "stdout"
        },
        {
          "output_type": "display_data",
          "data": {
            "image/png": "[encoded data removed]",
            "text/plain": [
              "<Figure size 432x288 with 1 Axes>"
            ]
          },
          "metadata": {
            "tags": []
          }
        }
      ]
    },
    {
      "cell_type": "code",
      "metadata": {
        "id": "2mDf601hwlVH",
        "colab_type": "code",
        "colab": {}
      },
      "source": [
        "#Trajectory travelled in one second, we assume rotation occurs appropriately and just join two points\n",
        "def simple_trajectory(xi, xt):\n",
        "    angle = np.arctan2(xt.y - xi.y, xt.x - xi.x)\n",
        "    dist_to_goal, slope = get_path(xi, xt)\n",
        "    d = 2 * math.pi * radius\n",
        "    xnew=State(xi.x,xi.y,0)\n",
        "    if dist_to_goal <= d:\n",
        "      xnew.x = xt.x\n",
        "      xnew.y = xt.y\n",
        "    else:\n",
        "      delta_y = abs(d * math.sin(angle))\n",
        "      delta_x = abs(d * math.cos(angle))\n",
        "      if xt.y > xnew.y:\n",
        "        xnew.y += delta_y\n",
        "      else:\n",
        "        xnew.y -= delta_y\n",
        "      if xt.x > xnew.x:\n",
        "        xnew.x += delta_x\n",
        "      else:\n",
        "        xnew.x -= delta_x\n",
        "    return xnew"
      ],
      "execution_count": 0,
      "outputs": []
    },
    {
      "cell_type": "code",
      "metadata": {
        "id": "xJmhp7Z-7trv",
        "colab_type": "code",
        "colab": {}
      },
      "source": [
        "#Our MAIN rrt algorithm, answer to 2(d)\n",
        "def rrt(xi,xg,obstacles,max_iter =2000):\n",
        "  i=0\n",
        "  statelist = [xi]\n",
        "  while(i<max_iter):\n",
        "    #pick random point:\n",
        "    rand_x = np.random.uniform(0, map_length, 1)[0]\n",
        "    rand_y = np.random.uniform(0, map_width, 1)[0]\n",
        "    rand_pt = State(rand_x, rand_y, 0)\n",
        "    #closest_state = closest_point(statelist, rand_pt)\n",
        "    closest_state_copy = closest_point(statelist, rand_pt)\n",
        "    new_state = simple_trajectory(closest_state_copy, rand_pt)\n",
        "    if is_collision_free(closest_state_copy,new_state,obstacles):\n",
        "      new_state.parent = closest_state_copy\n",
        "     # new_state.parent.print_state()\n",
        "     # new_state.print_state()\n",
        "      statelist.append(new_state)\n",
        "      dist_to_goal, slope = get_path(statelist[-1], xg)\n",
        "      i += 1\n",
        "      if dist_to_goal < 100:\n",
        "        print(\"Distance lesser than 100!\")\n",
        "        break\n",
        "      #time.sleep(0.5)\n",
        "      if i % 100 == 0:\n",
        "        print(\"Iteration number: \" + str(i))\n",
        "    else:\n",
        "      continue\n",
        "  return statelist\n"
      ],
      "execution_count": 0,
      "outputs": []
    },
    {
      "cell_type": "code",
      "metadata": {
        "colab_type": "code",
        "id": "thsnw91DM9G1",
        "colab": {}
      },
      "source": [
        "#Extracting the path from the tree, we start with the last node and we keep checking if parent is none untill we reach the starting node\n",
        "def create_path2(statelist):\n",
        "  # Find the path with all via points\n",
        "    path = [statelist[-1]]\n",
        "    last_node=statelist[-1]\n",
        "    while (last_node.parent is not None):\n",
        "      path.append(last_node.parent)\n",
        "      last_node = last_node.parent\n",
        "    path.append(statelist[0])\n",
        "    print(len(path))\n",
        "    return path\n",
        "  \n",
        "    "
      ],
      "execution_count": 0,
      "outputs": []
    },
    {
      "cell_type": "code",
      "metadata": {
        "id": "5s8J5sEq72P0",
        "colab_type": "code",
        "outputId": "1a79cc96-77ad-4f82-95ac-47ae7596dfb9",
        "colab": {
          "base_uri": "https://localhost:8080/",
          "height": 153
        }
      },
      "source": [
        "import time\n",
        "#Setting initial and final state\n",
        "xi = State(0, 400, 90)\n",
        "xg = State(1400,900,0)\n",
        "#total_trajectory(init_state, final_state)\n",
        "#one_second_trajectory(init_state, final_state)\n",
        "#init_state.print_state()\n",
        "\n",
        "#Setting obstacles\n",
        "obstacles = []\n",
        "obstacle1 = Obstacle(800,1000,1500,1200)\n",
        "obstacle2 = Obstacle(800,700,1500,900)\n",
        "obstacle3 = Obstacle(300,100,700,1400)\n",
        "#obstacle1 = Obstacle(400,600,1100,800)\n",
        "#obstacle2 = Obstacle(800,0,900,100)\n",
        "#obstacle3 = Obstacle(1200,0,1300,100)\n",
        "#obstacle4 = Obstacle(300,0,400,300)\n",
        "\n",
        "obstacles.append(obstacle1)\n",
        "obstacles.append(obstacle2)\n",
        "obstacles.append(obstacle3)\n",
        "#obstacles.append(obstacle4)\n",
        "#print(is_collision_free(init_state,final_state,obstacles))\n",
        "start_time = time.time()\n",
        "df = rrt(xi, xg,obstacles)\n",
        "end_time = time.time()\n",
        "print(\"Time for RRT: %s s\" %str(end_time - start_time))\n",
        "print(len(df))\n",
        "\n"
      ],
      "execution_count": 19,
      "outputs": [
        {
          "output_type": "stream",
          "text": [
            "Iteration number: 100\n",
            "Iteration number: 200\n",
            "Iteration number: 300\n",
            "Iteration number: 400\n",
            "Iteration number: 500\n",
            "Distance lesser than 100!\n",
            "Time for RRT: 1.7708196640014648 s\n",
            "574\n"
          ],
          "name": "stdout"
        }
      ]
    },
    {
      "cell_type": "code",
      "metadata": {
        "id": "NHr-Jjf2OXu2",
        "colab_type": "code",
        "outputId": "7a206fa5-7334-4ec9-d6d7-d70d20a78f64",
        "colab": {
          "base_uri": "https://localhost:8080/",
          "height": 108
        }
      },
      "source": [
        "plath = create_path2(df)\n",
        "print(plath)\n",
        "print(plath[0].parent)"
      ],
      "execution_count": 20,
      "outputs": [
        {
          "output_type": "stream",
          "text": [
            "29\n",
            "[<__main__.State object at 0x7fc65632c358>, <__main__.State object at 0x7fc65632c5c0>, <__main__.State object at 0x7fc65632c0f0>, <__main__.State object at 0x7fc6563230b8>, <__main__.State object at 0x7fc656321c50>, <__main__.State object at 0x7fc65631edd8>, <__main__.State object at 0x7fc65631eda0>, <__main__.State object at 0x7fc65631e668>, <__main__.State object at 0x7fc65631e588>, <__main__.State object at 0x7fc656360e48>, <__main__.State object at 0x7fc65635a4a8>, <__main__.State object at 0x7fc65641cb70>, <__main__.State object at 0x7fc65631b630>, <__main__.State object at 0x7fc65631b390>, <__main__.State object at 0x7fc65630c400>, <__main__.State object at 0x7fc65630c2e8>, <__main__.State object at 0x7fc65630c9b0>, <__main__.State object at 0x7fc65630cbe0>, <__main__.State object at 0x7fc65630c550>, <__main__.State object at 0x7fc6564935c0>, <__main__.State object at 0x7fc6564939b0>, <__main__.State object at 0x7fc6564932e8>, <__main__.State object at 0x7fc656301588>, <__main__.State object at 0x7fc656301b38>, <__main__.State object at 0x7fc656301668>, <__main__.State object at 0x7fc65648e198>, <__main__.State object at 0x7fc6572fb160>, <__main__.State object at 0x7fc6572fb7b8>, <__main__.State object at 0x7fc6572fb7b8>]\n",
            "<__main__.State object at 0x7fc65632c5c0>\n"
          ],
          "name": "stdout"
        }
      ]
    },
    {
      "cell_type": "code",
      "metadata": {
        "id": "eUPrgY4w-WeE",
        "colab_type": "code",
        "outputId": "8870574d-79ed-4d26-f22d-c4966c7f3a55",
        "colab": {
          "base_uri": "https://localhost:8080/",
          "height": 425
        }
      },
      "source": [
        "\n",
        "#Plotting the Operational space with the trajectory of the robot, and the graph\n",
        "\n",
        "\n",
        "import matplotlib.pyplot as plt\n",
        "fig = plt.figure(figsize = (8, 6))\n",
        "ax = fig.add_subplot(111)\n",
        "plt.xlim((0,map_length))\n",
        "plt.ylim((0,map_width))\n",
        "\n",
        "# Major ticks every 100\n",
        "major_ticks = np.arange(0, map_length, 100)\n",
        "ax.set_xticks(major_ticks)\n",
        "ax.set_yticks(major_ticks)\n",
        "ax.grid(which='both')\n",
        "ax.grid(which='major', alpha=0.5)\n",
        "plt.grid(True, color = 'k')\n",
        "\n",
        "#Plot initial robot point (blue):\n",
        "initial = plt.Rectangle((xi.x, xi.y), 100, 90, color='blue')\n",
        "#plt.arrow(xi.x+10, xi.y+50, 50, 50, color='white', width=10)\n",
        "ax.add_patch(initial)\n",
        "\n",
        "\n",
        "#Plot Goal(green):\n",
        "goal = plt.Circle((xg.x, xg.y), 100, color='g')\n",
        "ax.add_patch(goal)\n",
        "\n",
        "\n",
        "#Plot Obstacle (red):\n",
        "for o in obstacles:\n",
        "    o = plt.Rectangle((o.x1, o.y1),  o.x2-o.x1, o.y2-o.y1, color='black')\n",
        "    ax.add_patch(o)\n",
        "\n",
        "\n",
        "#plot the path:\n",
        "x_series = []\n",
        "y_series = []\n",
        "\n",
        "for i in df:\n",
        "  x_series.append(i.x)\n",
        "  y_series.append(i.y) \n",
        "  #i.print_state()\n",
        "print(len(df))\n",
        "plt.plot( x_series, y_series, 'ro' , markersize = '5')\n",
        "\n",
        "x_series = []\n",
        "y_series = []\n",
        "\n",
        "for i in plath:\n",
        "  x_series.append(i.x)\n",
        "  y_series.append(i.y) \n",
        "  #i.print_state()\n",
        "print(len(plath))\n",
        "plt.plot( x_series, y_series, 'b--' , markersize = '5')\n"
      ],
      "execution_count": 21,
      "outputs": [
        {
          "output_type": "stream",
          "text": [
            "574\n",
            "29\n"
          ],
          "name": "stdout"
        },
        {
          "output_type": "execute_result",
          "data": {
            "text/plain": [
              "[<matplotlib.lines.Line2D at 0x7fc656286860>]"
            ]
          },
          "metadata": {
            "tags": []
          },
          "execution_count": 21
        },
        {
          "output_type": "display_data",
          "data": {
            "image/png": "[encoded data removed]",
            "text/plain": [
              "<Figure size 576x432 with 1 Axes>"
            ]
          },
          "metadata": {
            "tags": []
          }
        }
      ]
    },
    {
      "cell_type": "code",
      "metadata": {
        "id": "CDxpYWWT_SpX",
        "colab_type": "code",
        "colab": {}
      },
      "source": [
        "#rrt star algorithm\n",
        "def rrt_star(xi,xg,obstacles,max_iter =2000):\n",
        "  i=0\n",
        "  statelist = [xi]\n",
        "  while(i<max_iter):\n",
        "    #pick random point:\n",
        "    rand_x = np.random.uniform(0, map_length, 1)[0]\n",
        "    rand_y = np.random.uniform(0, map_width, 1)[0]\n",
        "    rand_pt = State(rand_x, rand_y, 0)\n",
        "    #closest_state = closest_point(statelist, rand_pt)\n",
        "    closest_state_copy = closest_point(statelist, rand_pt)\n",
        "    new_state = simple_trajectory(closest_state_copy, rand_pt)\n",
        "    if is_collision_free(closest_state_copy,new_state,obstacles):\n",
        "      closest_state_copy = closest_point(statelist, rand_pt)\n",
        "\n",
        "      new_state.parent = closest_state_copy\n",
        "     # new_state.parent.print_state()\n",
        "     # new_state.print_state()\n",
        "      statelist.append(new_state)\n",
        "      dist_to_goal, slope = get_path(statelist[-1], xg)\n",
        "      i += 1\n",
        "      if dist_to_goal < 100:\n",
        "        print(\"Distance lesser than 100!\")\n",
        "        break\n",
        "      #time.sleep(0.5)\n",
        "      if i % 100 == 0:\n",
        "        print(\"Iteration number: \" + str(i))\n",
        "    else:\n",
        "      continue\n",
        "  return statelist"
      ],
      "execution_count": 0,
      "outputs": []
    }
  ]
}